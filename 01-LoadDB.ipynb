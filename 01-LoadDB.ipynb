{
 "cells": [
  {
   "cell_type": "markdown",
   "metadata": {},
   "source": [
    "Load text"
   ]
  },
  {
   "cell_type": "code",
   "execution_count": 170,
   "metadata": {},
   "outputs": [],
   "source": [
    "    import csv\n",
    "    \n",
    "    newlist = []\n",
    "    \n",
    "    with open('/Users/tarikz/Webpage/video-db/sandbox/test1.txt', newline = '') as videodbraw:                                                                                          \n",
    "        videodb_reader = csv.reader(videodbraw, delimiter='\\t')\n",
    "        for videodb in videodb_reader:\n",
    "            #print(videodb)\n",
    "            newlist.append(videodb)\n",
    "                    "
   ]
  },
  {
   "cell_type": "code",
   "execution_count": 171,
   "metadata": {},
   "outputs": [],
   "source": [
    "# Keywords (of first line)\n",
    "str = newlist[1][8]"
   ]
  },
  {
   "cell_type": "code",
   "execution_count": 172,
   "metadata": {},
   "outputs": [
    {
     "name": "stdout",
     "output_type": "stream",
     "text": [
      "['travail', ' salaire', ' profit']\n"
     ]
    }
   ],
   "source": [
    "# Split string by ,\n",
    "chunks = str.split(',')\n",
    "print(chunks)"
   ]
  },
  {
   "cell_type": "code",
   "execution_count": 173,
   "metadata": {},
   "outputs": [
    {
     "name": "stdout",
     "output_type": "stream",
     "text": [
      "['What does work mean? I Work, Salary, Profit (1/6) I ARTE Documentary', 'Arte']\n"
     ]
    }
   ],
   "source": [
    "# Recompose first observation\n",
    "videodb_new = [ newlist[1][1], newlist[1][2] ]\n",
    "print(videodb_new)"
   ]
  },
  {
   "cell_type": "code",
   "execution_count": 174,
   "metadata": {},
   "outputs": [],
   "source": [
    "# Count the number of keywords\n",
    "iN = len(chunks)"
   ]
  },
  {
   "cell_type": "code",
   "execution_count": 175,
   "metadata": {},
   "outputs": [
    {
     "name": "stdout",
     "output_type": "stream",
     "text": [
      "[0, 1, 2]\n"
     ]
    }
   ],
   "source": [
    "mylistkeywords = [i for i in range(iN)]\n",
    "\n",
    "print(mylistkeywords)"
   ]
  },
  {
   "cell_type": "code",
   "execution_count": 177,
   "metadata": {},
   "outputs": [
    {
     "name": "stdout",
     "output_type": "stream",
     "text": [
      "['What does work mean? I Work, Salary, Profit (1/6) I ARTE Documentary', 'Arte', 'https://www.youtube.com/watch?v=4EUD8icwVPA&t=275s', 'French', 'English', 'Video', '54', 'travail']\n",
      "['What does work mean? I Work, Salary, Profit (1/6) I ARTE Documentary', 'Arte', 'https://www.youtube.com/watch?v=4EUD8icwVPA&t=275s', 'French', 'English', 'Video', '54', 'travail', 'What does work mean? I Work, Salary, Profit (1/6) I ARTE Documentary', 'Arte', 'https://www.youtube.com/watch?v=4EUD8icwVPA&t=275s', 'French', 'English', 'Video', '54', ' salaire']\n",
      "['What does work mean? I Work, Salary, Profit (1/6) I ARTE Documentary', 'Arte', 'https://www.youtube.com/watch?v=4EUD8icwVPA&t=275s', 'French', 'English', 'Video', '54', 'travail', 'What does work mean? I Work, Salary, Profit (1/6) I ARTE Documentary', 'Arte', 'https://www.youtube.com/watch?v=4EUD8icwVPA&t=275s', 'French', 'English', 'Video', '54', ' salaire', 'What does work mean? I Work, Salary, Profit (1/6) I ARTE Documentary', 'Arte', 'https://www.youtube.com/watch?v=4EUD8icwVPA&t=275s', 'French', 'English', 'Video', '54', ' profit']\n"
     ]
    }
   ],
   "source": [
    "mylist = [1,2,3,4,5,6,7]\n",
    "\n",
    "a = []\n",
    "\n",
    "for y in mylistkeywords:\n",
    "    \n",
    "    b = []\n",
    "\n",
    "    for x in mylist:\n",
    "        s = newlist[1][x]\n",
    "        a.append(s)\n",
    "    \n",
    "    temp = chunks[y]\n",
    "    b = a.append(temp)\n",
    "\n",
    "    print(a)"
   ]
  },
  {
   "cell_type": "code",
   "execution_count": null,
   "metadata": {},
   "outputs": [],
   "source": []
  }
 ],
 "metadata": {
  "kernelspec": {
   "display_name": "Python 3",
   "language": "python",
   "name": "python3"
  },
  "language_info": {
   "codemirror_mode": {
    "name": "ipython",
    "version": 3
   },
   "file_extension": ".py",
   "mimetype": "text/x-python",
   "name": "python",
   "nbconvert_exporter": "python",
   "pygments_lexer": "ipython3",
   "version": "3.8.3"
  }
 },
 "nbformat": 4,
 "nbformat_minor": 4
}
